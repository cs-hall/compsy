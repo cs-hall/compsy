{
 "cells": [
  {
   "cell_type": "markdown",
   "metadata": {
    "slideshow": {
     "slide_type": "slide"
    }
   },
   "source": [
    "# More SMILE!!!\n",
    "## Computational Methods in Psychology and Neuroscience\n",
    "### Psychology 4215/7215 --- Fall 2023\n",
    "By: Per B. Sederberg, PhD\n",
    "\n"
   ]
  },
  {
   "cell_type": "markdown",
   "metadata": {
    "slideshow": {
     "slide_type": "slide"
    }
   },
   "source": [
    "# Lesson Objectives\n",
    "\n",
    "Upon completion of this lesson, students should have learned:\n",
    "\n",
    "1. How to update SMILE to the latest version\n",
    "2. How to present images\n",
    "3. To visualize the DAG for an experiment\n",
    "4. How to lay out visual states on the screen\n",
    "5. To log information for easy analysis\n",
    "6. How to write subroutines to organize your code\n",
    "7. How to include mouse interaction\n"
   ]
  },
  {
   "cell_type": "markdown",
   "metadata": {
    "slideshow": {
     "slide_type": "slide"
    }
   },
   "source": [
    "# Updating SMILE\n",
    "\n",
    "- First, activate your smile virtual environment:\n",
    "\n",
    "```bash\n",
    "conda activate smile\n",
    "```\n",
    "\n",
    "- You can test whether there is a new version Kivy, which is the primary dependency of SMILE:\n",
    "\n",
    "```bash\n",
    "conda install -c conda-forge kivy\n",
    "```\n",
    "\n",
    "- Then you can update SMILE right from the GitHub repository (note the upgrade option at the end):\n",
    "\n",
    "```bash\n",
    "pip install --upgrade git+https://github.com/compmem/smile\n",
    "```"
   ]
  },
  {
   "cell_type": "markdown",
   "metadata": {
    "slideshow": {
     "slide_type": "slide"
    }
   },
   "source": [
    "# Understanding Flow\n",
    "\n",
    "- By default, everything in SMILE proceeds sequentially (i.e., in *serial*) in the order the states are added.\n",
    "  - The `Serial` parent state manages starting the next child state when the previous child finishes.\n",
    "- The `Parallel` state allows for multiple states to run *at the same time*.\n",
    "  - By default the `Parallel` state is done with all its child states are done.\n",
    "  - The `blocking` attribute allows ending a `Parallel` state when all non-blocking states are done.\n",
    "  - The `UntilDone` and `Meanwhile` parent states simply create Serial/Parallel states with specific blocking values."
   ]
  },
  {
   "cell_type": "markdown",
   "metadata": {
    "slideshow": {
     "slide_type": "slide"
    }
   },
   "source": [
    "## These are the same"
   ]
  },
  {
   "cell_type": "code",
   "execution_count": 2,
   "metadata": {},
   "outputs": [
    {
     "name": "stderr",
     "output_type": "stream",
     "text": [
      "[INFO   ] [Logger      ] Record log in C:\\Users\\student\\.kivy\\logs\\kivy_23-09-21_4.txt\n",
      "[INFO   ] [Kivy        ] v2.2.1\n",
      "[INFO   ] [Kivy        ] Installed at \"c:\\Users\\student\\anaconda3\\envs\\smile\\lib\\site-packages\\kivy\\__init__.py\"\n",
      "[INFO   ] [Python      ] v3.10.12 | packaged by conda-forge | (main, Jun 23 2023, 22:34:57) [MSC v.1936 64 bit (AMD64)]\n",
      "[INFO   ] [Python      ] Interpreter at \"c:\\Users\\student\\anaconda3\\envs\\smile\\python.exe\"\n",
      "[INFO   ] [Logger      ] Purge log fired. Processing...\n",
      "[INFO   ] [Logger      ] Purge finished!\n",
      "[INFO   ] [Factory     ] 190 symbols loaded\n",
      "[INFO   ] [Image       ] Providers: img_tex, img_dds, img_sdl2, img_pil (img_ffpyplayer ignored)\n",
      "[INFO   ] [Text        ] Provider: sdl2\n",
      "[INFO   ] [Window      ] Provider: sdl2\n",
      "[INFO   ] [GL          ] Using the \"OpenGL\" graphics system\n",
      "[INFO   ] [GL          ] GLEW initialization succeeded\n",
      "[INFO   ] [GL          ] Backend used <glew>\n",
      "[INFO   ] [GL          ] OpenGL version <b'4.6.0 - Build 26.20.100.7986'>\n",
      "[INFO   ] [GL          ] OpenGL vendor <b'Intel'>\n",
      "[INFO   ] [GL          ] OpenGL renderer <b'Intel(R) HD Graphics 520'>\n",
      "[INFO   ] [GL          ] OpenGL parsed version: 4, 6\n",
      "[INFO   ] [GL          ] Shading version <b'4.60 - Build 26.20.100.7986'>\n",
      "[INFO   ] [GL          ] Texture max size <16384>\n",
      "[INFO   ] [GL          ] Texture max units <32>\n",
      "[INFO   ] [Window      ] auto add sdl2 input provider\n",
      "[INFO   ] [Window      ] virtual keyboard not allowed, single mode, not docked\n",
      "[CRITICAL] [Camera      ] Unable to find any valuable Camera provider. Please enable debug logging (e.g. add -d if running from the command line, or change the log level in the config) and re-run your app to identify potential causes\n",
      "picamera - ModuleNotFoundError: No module named 'picamera'\n",
      "  File \"c:\\Users\\student\\anaconda3\\envs\\smile\\lib\\site-packages\\kivy\\core\\__init__.py\", line 59, in core_select_lib\n",
      "    mod = importlib.__import__(name='{2}.{0}.{1}'.format(\n",
      "  File \"<frozen importlib._bootstrap>\", line 1129, in __import__\n",
      "  File \"<frozen importlib._bootstrap>\", line 1050, in _gcd_import\n",
      "  File \"<frozen importlib._bootstrap>\", line 1027, in _find_and_load\n",
      "  File \"<frozen importlib._bootstrap>\", line 1006, in _find_and_load_unlocked\n",
      "  File \"<frozen importlib._bootstrap>\", line 688, in _load_unlocked\n",
      "  File \"<frozen importlib._bootstrap_external>\", line 883, in exec_module\n",
      "  File \"<frozen importlib._bootstrap>\", line 241, in _call_with_frames_removed\n",
      "  File \"c:\\Users\\student\\anaconda3\\envs\\smile\\lib\\site-packages\\kivy\\core\\camera\\camera_picamera.py\", line 18, in <module>\n",
      "    from picamera import PiCamera\n",
      "\n",
      "gi - ModuleNotFoundError: No module named 'gi'\n",
      "  File \"c:\\Users\\student\\anaconda3\\envs\\smile\\lib\\site-packages\\kivy\\core\\__init__.py\", line 59, in core_select_lib\n",
      "    mod = importlib.__import__(name='{2}.{0}.{1}'.format(\n",
      "  File \"<frozen importlib._bootstrap>\", line 1129, in __import__\n",
      "  File \"<frozen importlib._bootstrap>\", line 1050, in _gcd_import\n",
      "  File \"<frozen importlib._bootstrap>\", line 1027, in _find_and_load\n",
      "  File \"<frozen importlib._bootstrap>\", line 1006, in _find_and_load_unlocked\n",
      "  File \"<frozen importlib._bootstrap>\", line 688, in _load_unlocked\n",
      "  File \"<frozen importlib._bootstrap_external>\", line 883, in exec_module\n",
      "  File \"<frozen importlib._bootstrap>\", line 241, in _call_with_frames_removed\n",
      "  File \"c:\\Users\\student\\anaconda3\\envs\\smile\\lib\\site-packages\\kivy\\core\\camera\\camera_gi.py\", line 10, in <module>\n",
      "    from gi.repository import Gst\n",
      "\n",
      "opencv - ModuleNotFoundError: No module named 'cv2'\n",
      "  File \"c:\\Users\\student\\anaconda3\\envs\\smile\\lib\\site-packages\\kivy\\core\\__init__.py\", line 59, in core_select_lib\n",
      "    mod = importlib.__import__(name='{2}.{0}.{1}'.format(\n",
      "  File \"<frozen importlib._bootstrap>\", line 1129, in __import__\n",
      "  File \"<frozen importlib._bootstrap>\", line 1050, in _gcd_import\n",
      "  File \"<frozen importlib._bootstrap>\", line 1027, in _find_and_load\n",
      "  File \"<frozen importlib._bootstrap>\", line 1006, in _find_and_load_unlocked\n",
      "  File \"<frozen importlib._bootstrap>\", line 688, in _load_unlocked\n",
      "  File \"<frozen importlib._bootstrap_external>\", line 883, in exec_module\n",
      "  File \"<frozen importlib._bootstrap>\", line 241, in _call_with_frames_removed\n",
      "  File \"c:\\Users\\student\\anaconda3\\envs\\smile\\lib\\site-packages\\kivy\\core\\camera\\camera_opencv.py\", line 48, in <module>\n",
      "    import cv2\n",
      "\n",
      "[INFO   ] [Video       ] Provider: null(['video_ffmpeg', 'video_ffpyplayer'] ignored)\n",
      "[WARNING] [SMILE       ] Unable to import PYO!\n",
      "[WARNING] [SMILE       ] Durations will be maintained, unless none are specified\n",
      "[INFO   ] [Base        ] Start application main loop\n",
      "[INFO   ] [GL          ] NPOT texture support is available\n",
      "[INFO   ] [Base        ] Leaving application in progress...\n"
     ]
    }
   ],
   "source": [
    "# load in smile states\n",
    "from smile.common import *\n",
    "\n",
    "# create an experiment instance\n",
    "exp = Experiment(show_splash=False, resolution=(1024,768))\n",
    "\n",
    "# METHOD 1\n",
    "Label(text='Press Any Key')\n",
    "with UntilDone():\n",
    "    KeyPress()\n",
    "Wait(.5)\n",
    "\n",
    "# METHOD 2\n",
    "with Parallel():\n",
    "    Label(text='Press Any Key', blocking=False)\n",
    "    KeyPress()\n",
    "Wait(.5)\n",
    "\n",
    "# METHOD 3\n",
    "KeyPress()\n",
    "with Meanwhile():\n",
    "    Label(text='Press Any Key')\n",
    "Wait(.5)\n",
    "\n",
    "exp.run()\n"
   ]
  },
  {
   "cell_type": "markdown",
   "metadata": {
    "slideshow": {
     "slide_type": "slide"
    }
   },
   "source": [
    "## Keeping track of variables\n",
    "\n",
    "Any variable needed at *run-time* must be *attached* to the state machine. "
   ]
  },
  {
   "cell_type": "code",
   "execution_count": 3,
   "metadata": {},
   "outputs": [
    {
     "name": "stderr",
     "output_type": "stream",
     "text": [
      "[INFO   ] [Window      ] Provider: sdl2\n",
      "[INFO   ] [GL          ] Using the \"OpenGL\" graphics system\n",
      "[INFO   ] [GL          ] GLEW initialization succeeded\n",
      "[INFO   ] [GL          ] Backend used <glew>\n",
      "[INFO   ] [GL          ] OpenGL version <b'4.6.0 - Build 26.20.100.7986'>\n",
      "[INFO   ] [GL          ] OpenGL vendor <b'Intel'>\n",
      "[INFO   ] [GL          ] OpenGL renderer <b'Intel(R) HD Graphics 520'>\n",
      "[INFO   ] [GL          ] OpenGL parsed version: 4, 6\n",
      "[INFO   ] [GL          ] Shading version <b'4.60 - Build 26.20.100.7986'>\n",
      "[INFO   ] [GL          ] Texture max size <16384>\n",
      "[INFO   ] [GL          ] Texture max units <32>\n",
      "[INFO   ] [Window      ] auto add sdl2 input provider\n",
      "[INFO   ] [Window      ] virtual keyboard not allowed, single mode, not docked\n",
      "[INFO   ] [Base        ] Start application main loop\n",
      "[INFO   ] [Base        ] Leaving application in progress...\n",
      "[INFO   ] [Window      ] Provider: sdl2\n",
      "[INFO   ] [GL          ] Using the \"OpenGL\" graphics system\n",
      "[INFO   ] [GL          ] GLEW initialization succeeded\n",
      "[INFO   ] [GL          ] Backend used <glew>\n",
      "[INFO   ] [GL          ] OpenGL version <b'4.6.0 - Build 26.20.100.7986'>\n",
      "[INFO   ] [GL          ] OpenGL vendor <b'Intel'>\n",
      "[INFO   ] [GL          ] OpenGL renderer <b'Intel(R) HD Graphics 520'>\n",
      "[INFO   ] [GL          ] OpenGL parsed version: 4, 6\n",
      "[INFO   ] [GL          ] Shading version <b'4.60 - Build 26.20.100.7986'>\n",
      "[INFO   ] [GL          ] Texture max size <16384>\n",
      "[INFO   ] [GL          ] Texture max units <32>\n",
      "[INFO   ] [Window      ] auto add sdl2 input provider\n",
      "[INFO   ] [Window      ] virtual keyboard not allowed, single mode, not docked\n",
      "[INFO   ] [Base        ] Start application main loop\n",
      "[ERROR  ] [Image       ] Not found <../assignments/outdoor/out0099_new.jpg>\n",
      "[ERROR  ] [Image       ] Not found <../assignments/outdoor/out0099_new.jpg>\n",
      "[WARNING] Deprecated property \"<BooleanProperty name=allow_stretch>\" of object \"<kivy.uix.image.Image object at 0x0000015A5EB35000>\" has been set, it will be removed in a future version\n",
      "[WARNING] Deprecated property \"<BooleanProperty name=keep_ratio>\" of object \"<kivy.uix.image.Image object at 0x0000015A5EB35000>\" was accessed, it will be removed in a future version\n",
      "[INFO   ] [Base        ] Leaving application in progress...\n"
     ]
    }
   ],
   "source": [
    "# load in smile states\n",
    "from smile.common import *\n",
    "\n",
    "# create an experiment instance\n",
    "exp = Experiment(show_splash=False, resolution=(1024,768))\n",
    "\n",
    "KeyPress()\n",
    "with Meanwhile():\n",
    "    # attach a variable reference\n",
    "    exp.current_value = 0\n",
    "    with Loop():\n",
    "        exp.current_value = exp.current_value + 1\n",
    "        Label(text=Ref(str, exp.current_value), duration=1.0, \n",
    "              font_size=50)\n",
    "Wait(.5)\n",
    "\n",
    "exp.run()"
   ]
  },
  {
   "cell_type": "markdown",
   "metadata": {
    "slideshow": {
     "slide_type": "slide"
    }
   },
   "source": [
    "# Showing Images\n"
   ]
  },
  {
   "cell_type": "code",
   "execution_count": 2,
   "metadata": {},
   "outputs": [
    {
     "name": "stderr",
     "output_type": "stream",
     "text": [
      "[INFO   ] [Logger      ] Record log in C:\\Users\\student\\.kivy\\logs\\kivy_23-09-21_5.txt\n",
      "[INFO   ] [Kivy        ] v2.2.1\n",
      "[INFO   ] [Kivy        ] Installed at \"c:\\Users\\student\\anaconda3\\envs\\smile\\lib\\site-packages\\kivy\\__init__.py\"\n",
      "[INFO   ] [Python      ] v3.10.12 | packaged by conda-forge | (main, Jun 23 2023, 22:34:57) [MSC v.1936 64 bit (AMD64)]\n",
      "[INFO   ] [Python      ] Interpreter at \"c:\\Users\\student\\anaconda3\\envs\\smile\\python.exe\"\n",
      "[INFO   ] [Logger      ] Purge log fired. Processing...\n",
      "[INFO   ] [Logger      ] Purge finished!\n",
      "[INFO   ] [Factory     ] 190 symbols loaded\n"
     ]
    },
    {
     "name": "stderr",
     "output_type": "stream",
     "text": [
      "[INFO   ] [Image       ] Providers: img_tex, img_dds, img_sdl2, img_pil (img_ffpyplayer ignored)\n",
      "[INFO   ] [Text        ] Provider: sdl2\n",
      "[INFO   ] [Window      ] Provider: sdl2\n",
      "[INFO   ] [GL          ] Using the \"OpenGL\" graphics system\n",
      "[INFO   ] [GL          ] GLEW initialization succeeded\n",
      "[INFO   ] [GL          ] Backend used <glew>\n",
      "[INFO   ] [GL          ] OpenGL version <b'4.6.0 - Build 26.20.100.7986'>\n",
      "[INFO   ] [GL          ] OpenGL vendor <b'Intel'>\n",
      "[INFO   ] [GL          ] OpenGL renderer <b'Intel(R) HD Graphics 520'>\n",
      "[INFO   ] [GL          ] OpenGL parsed version: 4, 6\n",
      "[INFO   ] [GL          ] Shading version <b'4.60 - Build 26.20.100.7986'>\n",
      "[INFO   ] [GL          ] Texture max size <16384>\n",
      "[INFO   ] [GL          ] Texture max units <32>\n",
      "[INFO   ] [Window      ] auto add sdl2 input provider\n",
      "[INFO   ] [Window      ] virtual keyboard not allowed, single mode, not docked\n",
      "[CRITICAL] [Camera      ] Unable to find any valuable Camera provider. Please enable debug logging (e.g. add -d if running from the command line, or change the log level in the config) and re-run your app to identify potential causes\n",
      "picamera - ModuleNotFoundError: No module named 'picamera'\n",
      "  File \"c:\\Users\\student\\anaconda3\\envs\\smile\\lib\\site-packages\\kivy\\core\\__init__.py\", line 59, in core_select_lib\n",
      "    mod = importlib.__import__(name='{2}.{0}.{1}'.format(\n",
      "  File \"<frozen importlib._bootstrap>\", line 1129, in __import__\n",
      "  File \"<frozen importlib._bootstrap>\", line 1050, in _gcd_import\n",
      "  File \"<frozen importlib._bootstrap>\", line 1027, in _find_and_load\n",
      "  File \"<frozen importlib._bootstrap>\", line 1006, in _find_and_load_unlocked\n",
      "  File \"<frozen importlib._bootstrap>\", line 688, in _load_unlocked\n",
      "  File \"<frozen importlib._bootstrap_external>\", line 883, in exec_module\n",
      "  File \"<frozen importlib._bootstrap>\", line 241, in _call_with_frames_removed\n",
      "  File \"c:\\Users\\student\\anaconda3\\envs\\smile\\lib\\site-packages\\kivy\\core\\camera\\camera_picamera.py\", line 18, in <module>\n",
      "    from picamera import PiCamera\n",
      "\n",
      "gi - ModuleNotFoundError: No module named 'gi'\n",
      "  File \"c:\\Users\\student\\anaconda3\\envs\\smile\\lib\\site-packages\\kivy\\core\\__init__.py\", line 59, in core_select_lib\n",
      "    mod = importlib.__import__(name='{2}.{0}.{1}'.format(\n",
      "  File \"<frozen importlib._bootstrap>\", line 1129, in __import__\n",
      "  File \"<frozen importlib._bootstrap>\", line 1050, in _gcd_import\n",
      "  File \"<frozen importlib._bootstrap>\", line 1027, in _find_and_load\n",
      "  File \"<frozen importlib._bootstrap>\", line 1006, in _find_and_load_unlocked\n",
      "  File \"<frozen importlib._bootstrap>\", line 688, in _load_unlocked\n",
      "  File \"<frozen importlib._bootstrap_external>\", line 883, in exec_module\n",
      "  File \"<frozen importlib._bootstrap>\", line 241, in _call_with_frames_removed\n",
      "  File \"c:\\Users\\student\\anaconda3\\envs\\smile\\lib\\site-packages\\kivy\\core\\camera\\camera_gi.py\", line 10, in <module>\n",
      "    from gi.repository import Gst\n",
      "\n",
      "opencv - ModuleNotFoundError: No module named 'cv2'\n",
      "  File \"c:\\Users\\student\\anaconda3\\envs\\smile\\lib\\site-packages\\kivy\\core\\__init__.py\", line 59, in core_select_lib\n",
      "    mod = importlib.__import__(name='{2}.{0}.{1}'.format(\n",
      "  File \"<frozen importlib._bootstrap>\", line 1129, in __import__\n",
      "  File \"<frozen importlib._bootstrap>\", line 1050, in _gcd_import\n",
      "  File \"<frozen importlib._bootstrap>\", line 1027, in _find_and_load\n",
      "  File \"<frozen importlib._bootstrap>\", line 1006, in _find_and_load_unlocked\n",
      "  File \"<frozen importlib._bootstrap>\", line 688, in _load_unlocked\n",
      "  File \"<frozen importlib._bootstrap_external>\", line 883, in exec_module\n",
      "  File \"<frozen importlib._bootstrap>\", line 241, in _call_with_frames_removed\n",
      "  File \"c:\\Users\\student\\anaconda3\\envs\\smile\\lib\\site-packages\\kivy\\core\\camera\\camera_opencv.py\", line 48, in <module>\n",
      "    import cv2\n",
      "\n",
      "[INFO   ] [Video       ] Provider: null(['video_ffmpeg', 'video_ffpyplayer'] ignored)\n",
      "[WARNING] [SMILE       ] Unable to import PYO!\n",
      "[WARNING] [SMILE       ] Durations will be maintained, unless none are specified\n"
     ]
    }
   ],
   "source": [
    "# load in smile states\n",
    "from smile.common import *\n",
    "\n",
    "# create an experiment instance\n",
    "exp = Experiment(show_splash=False, resolution=(1024,768))\n",
    "\n",
    "# show an image until keypress\n",
    "Image(source=\"../assignments/outdoor/out0099_new.jpg\")\n",
    "with UntilDone():\n",
    "    KeyPress()\n",
    "\n",
    "# show a larger image until keypress (note allow_stretch)\n",
    "Image(source=\"../assignments/outdoor/out0099_new.jpg\", \n",
    "      width=200, height=400, allow_stretch=True, keep_ratio=False)\n",
    "with UntilDone():\n",
    "    KeyPress()\n",
    "\n",
    "# run the experiment\n",
    "#exp.run()"
   ]
  },
  {
   "cell_type": "markdown",
   "metadata": {
    "slideshow": {
     "slide_type": "slide"
    }
   },
   "source": [
    "# Visualizing State Machines\n",
    "\n",
    "- A SMILE experiment is a directed acyclic graph (DAG)\n",
    "- It's possible to visualize the full hierarchy of states\n",
    "\n",
    "- Note, this will require that you install pydot:\n",
    "\n",
    "```bash\n",
    "conda install pydot\n",
    "```"
   ]
  },
  {
   "cell_type": "code",
   "execution_count": 5,
   "metadata": {},
   "outputs": [
    {
     "ename": "AttributeError",
     "evalue": "module 'os' has no attribute 'errno'",
     "output_type": "error",
     "traceback": [
      "\u001b[1;31m---------------------------------------------------------------------------\u001b[0m",
      "\u001b[1;31mFileNotFoundError\u001b[0m                         Traceback (most recent call last)",
      "File \u001b[1;32mc:\\Users\\student\\anaconda3\\envs\\smile\\lib\\site-packages\\pydot.py:1856\u001b[0m, in \u001b[0;36mDot.create\u001b[1;34m(self, prog, format, encoding)\u001b[0m\n\u001b[0;32m   1855\u001b[0m \u001b[39mtry\u001b[39;00m:\n\u001b[1;32m-> 1856\u001b[0m     p \u001b[39m=\u001b[39m subprocess\u001b[39m.\u001b[39;49mPopen(\n\u001b[0;32m   1857\u001b[0m         cmdline,\n\u001b[0;32m   1858\u001b[0m         env\u001b[39m=\u001b[39;49menv,\n\u001b[0;32m   1859\u001b[0m         cwd\u001b[39m=\u001b[39;49mtmp_dir,\n\u001b[0;32m   1860\u001b[0m         shell\u001b[39m=\u001b[39;49m\u001b[39mFalse\u001b[39;49;00m,\n\u001b[0;32m   1861\u001b[0m         stderr\u001b[39m=\u001b[39;49msubprocess\u001b[39m.\u001b[39;49mPIPE, stdout\u001b[39m=\u001b[39;49msubprocess\u001b[39m.\u001b[39;49mPIPE)\n\u001b[0;32m   1862\u001b[0m \u001b[39mexcept\u001b[39;00m \u001b[39mOSError\u001b[39;00m \u001b[39mas\u001b[39;00m e:\n",
      "File \u001b[1;32mc:\\Users\\student\\anaconda3\\envs\\smile\\lib\\subprocess.py:971\u001b[0m, in \u001b[0;36mPopen.__init__\u001b[1;34m(self, args, bufsize, executable, stdin, stdout, stderr, preexec_fn, close_fds, shell, cwd, env, universal_newlines, startupinfo, creationflags, restore_signals, start_new_session, pass_fds, user, group, extra_groups, encoding, errors, text, umask, pipesize)\u001b[0m\n\u001b[0;32m    968\u001b[0m             \u001b[39mself\u001b[39m\u001b[39m.\u001b[39mstderr \u001b[39m=\u001b[39m io\u001b[39m.\u001b[39mTextIOWrapper(\u001b[39mself\u001b[39m\u001b[39m.\u001b[39mstderr,\n\u001b[0;32m    969\u001b[0m                     encoding\u001b[39m=\u001b[39mencoding, errors\u001b[39m=\u001b[39merrors)\n\u001b[1;32m--> 971\u001b[0m     \u001b[39mself\u001b[39;49m\u001b[39m.\u001b[39;49m_execute_child(args, executable, preexec_fn, close_fds,\n\u001b[0;32m    972\u001b[0m                         pass_fds, cwd, env,\n\u001b[0;32m    973\u001b[0m                         startupinfo, creationflags, shell,\n\u001b[0;32m    974\u001b[0m                         p2cread, p2cwrite,\n\u001b[0;32m    975\u001b[0m                         c2pread, c2pwrite,\n\u001b[0;32m    976\u001b[0m                         errread, errwrite,\n\u001b[0;32m    977\u001b[0m                         restore_signals,\n\u001b[0;32m    978\u001b[0m                         gid, gids, uid, umask,\n\u001b[0;32m    979\u001b[0m                         start_new_session)\n\u001b[0;32m    980\u001b[0m \u001b[39mexcept\u001b[39;00m:\n\u001b[0;32m    981\u001b[0m     \u001b[39m# Cleanup if the child failed starting.\u001b[39;00m\n",
      "File \u001b[1;32mc:\\Users\\student\\anaconda3\\envs\\smile\\lib\\subprocess.py:1456\u001b[0m, in \u001b[0;36mPopen._execute_child\u001b[1;34m(self, args, executable, preexec_fn, close_fds, pass_fds, cwd, env, startupinfo, creationflags, shell, p2cread, p2cwrite, c2pread, c2pwrite, errread, errwrite, unused_restore_signals, unused_gid, unused_gids, unused_uid, unused_umask, unused_start_new_session)\u001b[0m\n\u001b[0;32m   1455\u001b[0m \u001b[39mtry\u001b[39;00m:\n\u001b[1;32m-> 1456\u001b[0m     hp, ht, pid, tid \u001b[39m=\u001b[39m _winapi\u001b[39m.\u001b[39;49mCreateProcess(executable, args,\n\u001b[0;32m   1457\u001b[0m                              \u001b[39m# no special security\u001b[39;49;00m\n\u001b[0;32m   1458\u001b[0m                              \u001b[39mNone\u001b[39;49;00m, \u001b[39mNone\u001b[39;49;00m,\n\u001b[0;32m   1459\u001b[0m                              \u001b[39mint\u001b[39;49m(\u001b[39mnot\u001b[39;49;00m close_fds),\n\u001b[0;32m   1460\u001b[0m                              creationflags,\n\u001b[0;32m   1461\u001b[0m                              env,\n\u001b[0;32m   1462\u001b[0m                              cwd,\n\u001b[0;32m   1463\u001b[0m                              startupinfo)\n\u001b[0;32m   1464\u001b[0m \u001b[39mfinally\u001b[39;00m:\n\u001b[0;32m   1465\u001b[0m     \u001b[39m# Child is launched. Close the parent's copy of those pipe\u001b[39;00m\n\u001b[0;32m   1466\u001b[0m     \u001b[39m# handles that only the child should have open.  You need\u001b[39;00m\n\u001b[1;32m   (...)\u001b[0m\n\u001b[0;32m   1469\u001b[0m     \u001b[39m# pipe will not close when the child process exits and the\u001b[39;00m\n\u001b[0;32m   1470\u001b[0m     \u001b[39m# ReadFile will hang.\u001b[39;00m\n",
      "\u001b[1;31mFileNotFoundError\u001b[0m: [WinError 2] The system cannot find the file specified",
      "\nDuring handling of the above exception, another exception occurred:\n",
      "\u001b[1;31mAttributeError\u001b[0m                            Traceback (most recent call last)",
      "\u001b[1;32mc:\\Users\\student\\OneDrive - University of Virginia\\1_UVA_Grad\\Courses\\Year2\\compsy\\lessons\\04_More_SMILE.ipynb Cell 12\u001b[0m line \u001b[0;36m3\n\u001b[0;32m      <a href='vscode-notebook-cell:/c%3A/Users/student/OneDrive%20-%20University%20of%20Virginia/1_UVA_Grad/Courses/Year2/compsy/lessons/04_More_SMILE.ipynb#X14sZmlsZQ%3D%3D?line=0'>1</a>\u001b[0m \u001b[39mfrom\u001b[39;00m \u001b[39msmile\u001b[39;00m\u001b[39m.\u001b[39;00m\u001b[39mdag\u001b[39;00m \u001b[39mimport\u001b[39;00m DAG\n\u001b[0;32m      <a href='vscode-notebook-cell:/c%3A/Users/student/OneDrive%20-%20University%20of%20Virginia/1_UVA_Grad/Courses/Year2/compsy/lessons/04_More_SMILE.ipynb#X14sZmlsZQ%3D%3D?line=1'>2</a>\u001b[0m d \u001b[39m=\u001b[39m DAG(exp)\n\u001b[1;32m----> <a href='vscode-notebook-cell:/c%3A/Users/student/OneDrive%20-%20University%20of%20Virginia/1_UVA_Grad/Courses/Year2/compsy/lessons/04_More_SMILE.ipynb#X14sZmlsZQ%3D%3D?line=2'>3</a>\u001b[0m d\u001b[39m.\u001b[39;49mview_png()\n",
      "File \u001b[1;32mc:\\Users\\student\\anaconda3\\envs\\smile\\lib\\site-packages\\smile\\dag.py:130\u001b[0m, in \u001b[0;36mDAG.view_png\u001b[1;34m(self)\u001b[0m\n\u001b[0;32m    128\u001b[0m \u001b[39mdef\u001b[39;00m \u001b[39mview_png\u001b[39m(\u001b[39mself\u001b[39m):\n\u001b[0;32m    129\u001b[0m     \u001b[39mfrom\u001b[39;00m \u001b[39mIPython\u001b[39;00m\u001b[39m.\u001b[39;00m\u001b[39mdisplay\u001b[39;00m \u001b[39mimport\u001b[39;00m Image, display\n\u001b[1;32m--> 130\u001b[0m     plt \u001b[39m=\u001b[39m Image(\u001b[39mself\u001b[39;49m\u001b[39m.\u001b[39;49mgraph\u001b[39m.\u001b[39;49mcreate_png())\n\u001b[0;32m    131\u001b[0m     \u001b[39mreturn\u001b[39;00m display(plt)\n",
      "File \u001b[1;32mc:\\Users\\student\\anaconda3\\envs\\smile\\lib\\site-packages\\pydot.py:1661\u001b[0m, in \u001b[0;36mDot.__init__.<locals>.new_method\u001b[1;34m(f, prog, encoding)\u001b[0m\n\u001b[0;32m   1657\u001b[0m \u001b[39mdef\u001b[39;00m \u001b[39mnew_method\u001b[39m(\n\u001b[0;32m   1658\u001b[0m         f\u001b[39m=\u001b[39mfrmt, prog\u001b[39m=\u001b[39m\u001b[39mself\u001b[39m\u001b[39m.\u001b[39mprog,\n\u001b[0;32m   1659\u001b[0m         encoding\u001b[39m=\u001b[39m\u001b[39mNone\u001b[39;00m):\n\u001b[0;32m   1660\u001b[0m \u001b[39m    \u001b[39m\u001b[39m\"\"\"Refer to docstring of method `create`.\"\"\"\u001b[39;00m\n\u001b[1;32m-> 1661\u001b[0m     \u001b[39mreturn\u001b[39;00m \u001b[39mself\u001b[39;49m\u001b[39m.\u001b[39;49mcreate(\n\u001b[0;32m   1662\u001b[0m         \u001b[39mformat\u001b[39;49m\u001b[39m=\u001b[39;49mf, prog\u001b[39m=\u001b[39;49mprog, encoding\u001b[39m=\u001b[39;49mencoding)\n",
      "File \u001b[1;32mc:\\Users\\student\\anaconda3\\envs\\smile\\lib\\site-packages\\pydot.py:1863\u001b[0m, in \u001b[0;36mDot.create\u001b[1;34m(self, prog, format, encoding)\u001b[0m\n\u001b[0;32m   1856\u001b[0m     p \u001b[39m=\u001b[39m subprocess\u001b[39m.\u001b[39mPopen(\n\u001b[0;32m   1857\u001b[0m         cmdline,\n\u001b[0;32m   1858\u001b[0m         env\u001b[39m=\u001b[39menv,\n\u001b[0;32m   1859\u001b[0m         cwd\u001b[39m=\u001b[39mtmp_dir,\n\u001b[0;32m   1860\u001b[0m         shell\u001b[39m=\u001b[39m\u001b[39mFalse\u001b[39;00m,\n\u001b[0;32m   1861\u001b[0m         stderr\u001b[39m=\u001b[39msubprocess\u001b[39m.\u001b[39mPIPE, stdout\u001b[39m=\u001b[39msubprocess\u001b[39m.\u001b[39mPIPE)\n\u001b[0;32m   1862\u001b[0m \u001b[39mexcept\u001b[39;00m \u001b[39mOSError\u001b[39;00m \u001b[39mas\u001b[39;00m e:\n\u001b[1;32m-> 1863\u001b[0m     \u001b[39mif\u001b[39;00m e\u001b[39m.\u001b[39merrno \u001b[39m==\u001b[39m os\u001b[39m.\u001b[39;49merrno\u001b[39m.\u001b[39mENOENT:\n\u001b[0;32m   1864\u001b[0m         args \u001b[39m=\u001b[39m \u001b[39mlist\u001b[39m(e\u001b[39m.\u001b[39margs)\n\u001b[0;32m   1865\u001b[0m         args[\u001b[39m1\u001b[39m] \u001b[39m=\u001b[39m \u001b[39m'\u001b[39m\u001b[39m\"\u001b[39m\u001b[39m{prog}\u001b[39;00m\u001b[39m\"\u001b[39m\u001b[39m not found in path.\u001b[39m\u001b[39m'\u001b[39m\u001b[39m.\u001b[39mformat(\n\u001b[0;32m   1866\u001b[0m             prog\u001b[39m=\u001b[39mprog)\n",
      "\u001b[1;31mAttributeError\u001b[0m: module 'os' has no attribute 'errno'"
     ]
    }
   ],
   "source": [
    "from smile.dag import DAG\n",
    "d = DAG(exp)\n",
    "d.view_png()"
   ]
  },
  {
   "cell_type": "markdown",
   "metadata": {
    "slideshow": {
     "slide_type": "slide"
    }
   },
   "source": [
    "# Advanced Placement\n",
    "\n",
    "- All visual states have a coordinate system based on the screen.\n",
    "- You can place any visual state relative to either the screen or other visual states:"
   ]
  },
  {
   "cell_type": "code",
   "execution_count": null,
   "metadata": {},
   "outputs": [],
   "source": [
    "# load in smile states\n",
    "from smile.common import *\n",
    "\n",
    "# create an experiment instance\n",
    "exp = Experiment(show_splash=False, resolution=(1024,768))\n",
    "\n",
    "# show images and labels until keypress\n",
    "with Parallel():\n",
    "    # place images based on the screen coords\n",
    "    out_im = Image(source=\"../assignments/outdoor/out0091_new.jpg\",\n",
    "                   left=exp.screen.center_x + 100)\n",
    "    in_im = Image(source=\"../assignments/indoor/in0021.jpg\",\n",
    "                  right=exp.screen.center_x - 100)\n",
    "    \n",
    "    # place labels based on the images\n",
    "    out_txt = Label(text='Outdoor', font_size=50, \n",
    "                    center_bottom=out_im.center_top)\n",
    "    in_txt = Label(text='Indoor', font_size=50, \n",
    "                   center_bottom=in_im.center_top)\n",
    "with UntilDone():\n",
    "    KeyPress()\n",
    "\n",
    "# run the experiment\n",
    "exp.run()"
   ]
  },
  {
   "cell_type": "markdown",
   "metadata": {
    "slideshow": {
     "slide_type": "slide"
    }
   },
   "source": [
    "## Conditional Execution\n",
    "\n",
    "Your state machine can branch by making use of conditionals, i.e., `If`, `Else`, and `Elif`."
   ]
  },
  {
   "cell_type": "code",
   "execution_count": null,
   "metadata": {},
   "outputs": [],
   "source": [
    "# load in smile states\n",
    "from smile.common import *\n",
    "\n",
    "# create an experiment instance\n",
    "exp = Experiment(show_splash=False, resolution=(1024,768))\n",
    "\n",
    "with Parallel():\n",
    "    with Serial(blocking=False):\n",
    "        exp.current_value = 0\n",
    "        with Loop():\n",
    "            # set the new value\n",
    "            exp.current_value = exp.current_value + 1\n",
    "            \n",
    "            with If(exp.current_value % 2 == 0):\n",
    "                # it's an even number, so move it left\n",
    "                exp.offset = -100\n",
    "            with Else():\n",
    "                # it's odd, so move it right\n",
    "                exp.offset = 100\n",
    "\n",
    "            Label(text=Ref(str, exp.current_value), duration=1.0, \n",
    "                  font_size=50,\n",
    "                  center_x = exp.screen.center_x + exp.offset)\n",
    "    KeyPress()\n",
    "Wait(.5)\n",
    "\n",
    "exp.run()"
   ]
  },
  {
   "cell_type": "markdown",
   "metadata": {
    "slideshow": {
     "slide_type": "slide"
    }
   },
   "source": [
    "# Mouse States\n",
    "\n",
    "- The mouse is hidden by default\n",
    "- You can add in a mouse cursor with the `MouseCursor` state\n",
    "- It's possible to trigger events based on mouse location"
   ]
  },
  {
   "cell_type": "code",
   "execution_count": null,
   "metadata": {},
   "outputs": [],
   "source": [
    "from smile.common import *\n",
    "\n",
    "# set up an experiment\n",
    "exp = Experiment(show_splash=False, debug=True)\n",
    "\n",
    "Wait(0.5)\n",
    "\n",
    "KeyPress()\n",
    "with Meanwhile():\n",
    "    MouseCursor()\n",
    "    \n",
    "exp.run()"
   ]
  },
  {
   "cell_type": "code",
   "execution_count": null,
   "metadata": {},
   "outputs": [],
   "source": [
    "from smile.common import *\n",
    "\n",
    "# set up an experiment\n",
    "exp = Experiment(show_splash=False, debug=True)\n",
    "\n",
    "Wait(0.5)\n",
    "\n",
    "# display a rectangle and the mouse cursor\n",
    "with Parallel():\n",
    "    rect = Rectangle(center_bottom=exp.screen.center_bottom,\n",
    "                     color='white')\n",
    "    MouseCursor()\n",
    "with UntilDone():\n",
    "    Wait(until=MouseWithin(rect))\n",
    "\n",
    "# put up two new rectangles\n",
    "with Parallel():\n",
    "    choice_A = Rectangle(left_top=(exp.screen.left + 100, exp.screen.top - 100))\n",
    "    choice_B = Rectangle(right_top=(exp.screen.right - 100, exp.screen.top - 100))\n",
    "    mrec = Record(mouse_pos=MousePos())\n",
    "    MouseCursor()\n",
    "with UntilDone():\n",
    "    mwa = MouseWithin(choice_A)\n",
    "    mwb = MouseWithin(choice_B)\n",
    "    w = Wait(until= mwa | mwb)\n",
    "    with If(mwa):\n",
    "        Debug(choice='A',\n",
    "              rt=w.event_time['time'] - choice_A.appear_time['time'])\n",
    "    with Else():\n",
    "        Debug(choice='B',\n",
    "              rt=w.event_time['time'] - choice_B.appear_time['time'])\n",
    "\n",
    "exp.run()"
   ]
  },
  {
   "cell_type": "markdown",
   "metadata": {
    "slideshow": {
     "slide_type": "slide"
    }
   },
   "source": [
    "# Animations\n",
    "\n",
    "- It's possible to link the attributes of a visual state to a function.\n",
    "- Here we move rectangles based on the mouse position:"
   ]
  },
  {
   "cell_type": "code",
   "execution_count": null,
   "metadata": {},
   "outputs": [],
   "source": [
    "from smile.common import *\n",
    "\n",
    "# set up an experiment\n",
    "exp = Experiment(show_splash=False, debug=True)\n",
    "\n",
    "Wait(1.0)\n",
    "\n",
    "with Parallel():\n",
    "    rect = Rectangle(center_bottom=exp.screen.center_bottom,\n",
    "                     color='white')\n",
    "    r2 = Rectangle(bottom=rect.bottom, color='purple')\n",
    "    r3 = Rectangle(center_top=exp.screen.center_top, color='green')\n",
    "    MouseCursor()\n",
    "with UntilDone():\n",
    "    Wait(until=MouseWithin(rect))\n",
    "    with Meanwhile():\n",
    "        with Parallel():\n",
    "            r2.animate(center_x=lambda t, initial: MousePos()[0])\n",
    "            r3.animate(center_y=lambda t, initial: MousePos()[1])\n",
    "\n",
    "exp.run()"
   ]
  },
  {
   "cell_type": "markdown",
   "metadata": {
    "slideshow": {
     "slide_type": "slide"
    }
   },
   "source": [
    "# Sliding\n",
    "\n",
    "- Visual States have a slide method to set new parameter values over a duration."
   ]
  },
  {
   "cell_type": "code",
   "execution_count": null,
   "metadata": {},
   "outputs": [],
   "source": [
    "from smile.common import *\n",
    "\n",
    "# set up the experiment\n",
    "exp = Experiment(show_splash=False, debug=True, resolution=(1024, 768))\n",
    "\n",
    "# initial wait\n",
    "Wait(.25)\n",
    "\n",
    "# Put up a circle\n",
    "circ = Ellipse(color=(jitter(0, 1),\n",
    "                      jitter(0, 1),\n",
    "                      jitter(0, 1)))\n",
    "with UntilDone():\n",
    "    Wait(until=circ.appear_time)\n",
    "    with Loop(5):\n",
    "        # slide to new loc and color\n",
    "        exp.new_col = (jitter(0, 1),\n",
    "                       jitter(0, 1),\n",
    "                       jitter(0, 1))\n",
    "        exp.new_loc = (jitter(0, exp.screen.width),\n",
    "                       jitter(0, exp.screen.height))\n",
    "        cu = circ.slide(duration=2.5,\n",
    "                        color=exp.new_col,\n",
    "                        center=exp.new_loc)\n",
    "\n",
    "Wait(.25)\n",
    "\n",
    "exp.run()\n"
   ]
  },
  {
   "cell_type": "markdown",
   "metadata": {
    "slideshow": {
     "slide_type": "slide"
    }
   },
   "source": [
    "# Animate and Slide together!"
   ]
  },
  {
   "cell_type": "code",
   "execution_count": null,
   "metadata": {},
   "outputs": [],
   "source": [
    "from smile.common import *\n",
    "from math import cos\n",
    "\n",
    "exp = Experiment(show_splash=False)\n",
    "\n",
    "# add a circle off the screen\n",
    "ellipse = Ellipse(right=exp.screen.left,\n",
    "              center_y=exp.screen.center_y, width=50, height=50,\n",
    "              angle_start=90.0, angle_end=460.0,\n",
    "              color=(1.0, 1.0, 0.0), name=\"Pacman\")\n",
    "\n",
    "with UntilDone():\n",
    "    with Parallel(name=\"Pacman motion\"):\n",
    "        ellipse.slide(left=exp.screen.right, duration=8.0, name=\"Pacman travel\")\n",
    "        ellipse.animate(\n",
    "            angle_start=lambda t, initial: initial + (cos(t * 8) + 1) * 22.5,\n",
    "            angle_end=lambda t, initial: initial - (cos(t * 8) + 1) * 22.5,\n",
    "            duration=8.0, name=\"Pacman gobble\")\n",
    "\n",
    "exp.run()"
   ]
  },
  {
   "cell_type": "markdown",
   "metadata": {
    "slideshow": {
     "slide_type": "slide"
    }
   },
   "source": [
    "# Logging\n",
    "\n",
    "- SMILE states automatically log themselves, so you rarely will lose information if you forget to log it.\n",
    "- It's still much easier to analyze a well-organized log file from your experiment.\n",
    "- Make use of the `Log` state to save out data."
   ]
  },
  {
   "cell_type": "markdown",
   "metadata": {
    "slideshow": {
     "slide_type": "slide"
    }
   },
   "source": [
    "# Subroutines\n",
    "\n",
    "- Functions are a great way to make clean programs when you have chunks of code that are called more than once.\n",
    "- The `Subroutine` decorator allows you to take chunks of state machine and call them like a function."
   ]
  },
  {
   "cell_type": "code",
   "execution_count": null,
   "metadata": {},
   "outputs": [],
   "source": [
    "# when defining the subroutine, you must include self as the first arg\n",
    "@Subroutine\n",
    "def MyTrial(self, text):\n",
    "    self.val = 33\n",
    "    Label(text=text)\n",
    "    with UntilDone():\n",
    "        KeyPress()\n",
    "        \n",
    "        \n",
    "MyTrial(text='Hello!')"
   ]
  },
  {
   "cell_type": "markdown",
   "metadata": {
    "slideshow": {
     "slide_type": "slide"
    }
   },
   "source": [
    "# Let's continue learning by building together!\n",
    "\n",
    "- Last class we wrote a list generation and initial Flanker task.\n",
    "- Let's update the frontend experiment to loop over those trials with a subroutine."
   ]
  },
  {
   "cell_type": "markdown",
   "metadata": {
    "slideshow": {
     "slide_type": "slide"
    }
   },
   "source": [
    "# List Gen Function"
   ]
  },
  {
   "cell_type": "code",
   "execution_count": null,
   "metadata": {},
   "outputs": [],
   "source": [
    "import random \n",
    "import copy\n",
    "\n",
    "# define the conditions\n",
    "conds = [{'condition': 'congruent',\n",
    "          'direction': 'left',\n",
    "          'stimulus': '<<<<<<<'\n",
    "         },\n",
    "         {'condition': 'congruent',\n",
    "          'direction': 'right',\n",
    "          'stimulus': '>>>>>>>'\n",
    "         },\n",
    "         {'condition': 'incongruent',\n",
    "          'direction': 'left',\n",
    "          'stimulus': '>>><>>>'\n",
    "         },\n",
    "         {'condition': 'incongruent',\n",
    "          'direction': 'right',\n",
    "          'stimulus': '<<<><<<'\n",
    "         },\n",
    "         {'condition': 'neutral',\n",
    "          'direction': 'left',\n",
    "          'stimulus': '===<==='\n",
    "         },\n",
    "         {'condition': 'neutral',\n",
    "          'direction': 'right',\n",
    "          'stimulus': '===>==='\n",
    "         },]\n",
    "\n",
    "# specify number of reps of these conditions\n",
    "num_reps = 2\n",
    "\n",
    "# loop and create the list\n",
    "trials = []\n",
    "for i in range(num_reps):\n",
    "    # extend the trials with copies of the conditions\n",
    "    trials.extend(copy.deepcopy(conds))\n",
    "\n",
    "# shuffle the trials\n",
    "random.shuffle(trials)\n",
    "\n",
    "print(trials)"
   ]
  },
  {
   "cell_type": "markdown",
   "metadata": {
    "slideshow": {
     "slide_type": "slide"
    }
   },
   "source": [
    "# Goal for each trial\n",
    "\n",
    "- Present the correct stimulus as text on the screen\n",
    "- Wait for a response\n",
    "- Remove the stimulus\n",
    "- Wait for an inter-stimulus interval\n",
    "- Log the result of the trial"
   ]
  },
  {
   "cell_type": "code",
   "execution_count": null,
   "metadata": {
    "slideshow": {
     "slide_type": "slide"
    }
   },
   "outputs": [],
   "source": [
    "from smile.common import *\n",
    "\n",
    "font_size = 75\n",
    "resp_keys = ['F', 'J']\n",
    "ISI_dur = 0.5\n",
    "ISI_jitter = 0.5\n",
    "\n",
    "# create the experiment\n",
    "exp = Experiment(show_splash=False, fullscreen=False,\n",
    "                 resolution=(1024, 768), debug=True)\n",
    "\n",
    "@Subroutine\n",
    "def Trial(self, cur_trial):\n",
    "    self.location = (jitter(self.exp.screen.center_x-200,\n",
    "                            400),\n",
    "                     jitter(self.exp.screen.center_y-100,\n",
    "                            200))\n",
    "    Debug(loc=self.location)\n",
    "    stim = Label(text=cur_trial['stimulus'],\n",
    "                 font_size=font_size,\n",
    "                 center=self.location)\n",
    "    with UntilDone():\n",
    "        Wait(until=stim.appear_time)\n",
    "        kp = KeyPress(keys=resp_keys)\n",
    "    \n",
    "    Wait(ISI_dur, jitter=ISI_jitter)\n",
    "    \n",
    "    Log(cur_trial, name='flanker',\n",
    "        stim_on=stim.appear_time,\n",
    "        resp=kp.pressed,\n",
    "        resp_time=kp.press_time,\n",
    "        location=self.location\n",
    "       )\n",
    "    \n",
    "# show the stimulus (will default to center of the screen)\n",
    "with Loop(trials) as trial:\n",
    "    with If(trial.i % 3 == 0):\n",
    "        # give someone a break\n",
    "        Label(text='Press any key to continue.')\n",
    "        with UntilDone():\n",
    "            KeyPress()\n",
    "        Wait(ISI_dur, jitter=ISI_jitter)\n",
    "        \n",
    "    Trial(trial.current)\n",
    "\n",
    "# run the experiment\n",
    "exp.run()"
   ]
  },
  {
   "cell_type": "markdown",
   "metadata": {
    "slideshow": {
     "slide_type": "slide"
    }
   },
   "source": [
    "## Assignment before next class\n",
    "\n",
    "- Your memory listgen assignment is due next week.\n",
    "- We'll be posting a small SMILE assignment soon.\n",
    "- Continue familiarizing yourself with SMILE, since that will be front and center for the next assignment.\n",
    "\n",
    "\n",
    "### See you next week!!!"
   ]
  }
 ],
 "metadata": {
  "celltoolbar": "Slideshow",
  "kernelspec": {
   "display_name": "Python 3 (ipykernel)",
   "language": "python",
   "name": "python3"
  },
  "language_info": {
   "codemirror_mode": {
    "name": "ipython",
    "version": 3
   },
   "file_extension": ".py",
   "mimetype": "text/x-python",
   "name": "python",
   "nbconvert_exporter": "python",
   "pygments_lexer": "ipython3",
   "version": "3.10.12"
  },
  "rise": {
   "scroll": true
  }
 },
 "nbformat": 4,
 "nbformat_minor": 2
}
